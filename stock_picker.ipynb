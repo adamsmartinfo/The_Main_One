{
 "cells": [
  {
   "cell_type": "code",
   "execution_count": 5,
   "id": "4b0f5566-47a8-4739-b89a-4d8b1f2cf412",
   "metadata": {
    "tags": []
   },
   "outputs": [],
   "source": [
    "# Install Yahoo Finance Library\n",
    "import yfinance as yf\n",
    "import pandas as pd"
   ]
  },
  {
   "cell_type": "code",
   "execution_count": 12,
   "id": "c49bb8af-c37d-4ab3-823d-71a97c5d84d6",
   "metadata": {
    "tags": []
   },
   "outputs": [],
   "source": [
    "def fetch_stock_data(ticker):\n",
    "    try:\n",
    "        stock_data = yf.download(ticker, start=\"2022-01-01\", end=\"2023-01-01\")\n",
    "        return stock_data\n",
    "    except Exception as e:\n",
    "        print(f\"Error fetching data for {ticker}: {e}\")\n",
    "        return None"
   ]
  },
  {
   "cell_type": "code",
   "execution_count": 8,
   "id": "59beaa24-8a0b-4026-b130-15cc20333903",
   "metadata": {
    "tags": []
   },
   "outputs": [],
   "source": [
    "def calculate_ratios(stock_data):\n",
    "    pe_ratio = stock_data['Close'][-1] / stock_data['Earnings per Share (EPS)']\n",
    "    eps = stock_data['Earnings per Share (EPS)'][-1]\n",
    "    peg_ratio = pe_ratio / eps\n",
    "    ps_ratio = stock_data['Close'][-1] / stock_data['Revenue']\n",
    "    pb_ratio = stock_data['Close'][-1] / stock_data['Book Value']\n",
    "    dividend_yield = stock_data['Dividends'][-1] / stock_data['Close'][-1]\n",
    "    dividend_payout = stock_data['Dividends'][-1] / stock_data['Earnings']\n",
    "    roa = stock_data['Net Income'][-1] / stock_data['Total Assets'][-1]\n",
    "    roe = stock_data['Net Income'][-1] / stock_data['Total Equity'][-1]\n",
    "    profit_margin = stock_data['Net Income'][-1] / stock_data['Revenue'][-1]\n",
    "    current_ratio = stock_data['Current Assets'][-1] / stock_data['Current Liabilities'][-1]\n",
    "    debt_to_equity = stock_data['Total Debt'][-1] / stock_data['Total Equity'][-1]\n",
    "    quick_ratio = (stock_data['Current Assets'][-1] - stock_data['Inventory'][-1]) / stock_data['Current Liabilities'][-1]\n",
    "    debt_liquidity = stock_data['Total Debt'][-1] / stock_data['Cash and Cash Equivalents'][-1]\n",
    "    beta = stock_data['Beta'][-1]\n",
    "\n",
    "\n",
    "    ratios = {\n",
    "        'P/E Ratio': pe_ratio,\n",
    "        'EPS': eps,\n",
    "        'PEG Ratio': peg_ratio,\n",
    "        'P/S Ratio': ps_ratio,\n",
    "        'P/B Ratio': pb_ratio,\n",
    "        'Dividend Yield': dividend_yield,\n",
    "        'Dividend Payout Ratio': dividend_payout,\n",
    "        'Return on Assets (ROA)': roa,\n",
    "        'Return on Equity (ROE)': roe,\n",
    "        'Profit Margin': profit_margin,\n",
    "        'Current Ratio': current_ratio,\n",
    "        'Debt to Equity Ratio': debt_to_equity,\n",
    "        'Quick Ratio': quick_ratio,\n",
    "        'Debt & Liquidity Ratio': debt_liquidity,\n",
    "        'Beta': beta\n",
    "    }\n",
    "\n",
    "    return ratios\n"
   ]
  },
  {
   "cell_type": "code",
   "execution_count": 9,
   "id": "50cb06c0-6e7a-44a0-91fa-ba7cf9a8b1d6",
   "metadata": {
    "tags": []
   },
   "outputs": [],
   "source": [
    "def weighted_score(ratios, weights):\n",
    "    score = sum(ratios[key] * weights[key] for key in ratios)\n",
    "    return score"
   ]
  },
  {
   "cell_type": "code",
   "execution_count": 10,
   "id": "59c337ca-fd7d-42da-b098-cffcaccd15c3",
   "metadata": {
    "tags": []
   },
   "outputs": [
    {
     "name": "stdout",
     "output_type": "stream",
     "text": [
      "[*********************100%%**********************]  1 of 1 completed\n"
     ]
    },
    {
     "ename": "KeyError",
     "evalue": "'Earnings per Share (EPS)'",
     "output_type": "error",
     "traceback": [
      "\u001b[0;31m---------------------------------------------------------------------------\u001b[0m",
      "\u001b[0;31mKeyError\u001b[0m                                  Traceback (most recent call last)",
      "File \u001b[0;32m~/anaconda3/envs/success/lib/python3.11/site-packages/pandas/core/indexes/base.py:3653\u001b[0m, in \u001b[0;36mIndex.get_loc\u001b[0;34m(self, key)\u001b[0m\n\u001b[1;32m   3652\u001b[0m \u001b[38;5;28;01mtry\u001b[39;00m:\n\u001b[0;32m-> 3653\u001b[0m     \u001b[38;5;28;01mreturn\u001b[39;00m \u001b[38;5;28mself\u001b[39m\u001b[38;5;241m.\u001b[39m_engine\u001b[38;5;241m.\u001b[39mget_loc(casted_key)\n\u001b[1;32m   3654\u001b[0m \u001b[38;5;28;01mexcept\u001b[39;00m \u001b[38;5;167;01mKeyError\u001b[39;00m \u001b[38;5;28;01mas\u001b[39;00m err:\n",
      "File \u001b[0;32m~/anaconda3/envs/success/lib/python3.11/site-packages/pandas/_libs/index.pyx:147\u001b[0m, in \u001b[0;36mpandas._libs.index.IndexEngine.get_loc\u001b[0;34m()\u001b[0m\n",
      "File \u001b[0;32m~/anaconda3/envs/success/lib/python3.11/site-packages/pandas/_libs/index.pyx:176\u001b[0m, in \u001b[0;36mpandas._libs.index.IndexEngine.get_loc\u001b[0;34m()\u001b[0m\n",
      "File \u001b[0;32mpandas/_libs/hashtable_class_helper.pxi:7080\u001b[0m, in \u001b[0;36mpandas._libs.hashtable.PyObjectHashTable.get_item\u001b[0;34m()\u001b[0m\n",
      "File \u001b[0;32mpandas/_libs/hashtable_class_helper.pxi:7088\u001b[0m, in \u001b[0;36mpandas._libs.hashtable.PyObjectHashTable.get_item\u001b[0;34m()\u001b[0m\n",
      "\u001b[0;31mKeyError\u001b[0m: 'Earnings per Share (EPS)'",
      "\nThe above exception was the direct cause of the following exception:\n",
      "\u001b[0;31mKeyError\u001b[0m                                  Traceback (most recent call last)",
      "Cell \u001b[0;32mIn[10], line 44\u001b[0m\n\u001b[1;32m     25\u001b[0m \u001b[38;5;66;03m# Define weights for each ratio (you can adjust these based on your preferences)\u001b[39;00m\n\u001b[1;32m     26\u001b[0m ratio_weights \u001b[38;5;241m=\u001b[39m {\n\u001b[1;32m     27\u001b[0m     \u001b[38;5;124m'\u001b[39m\u001b[38;5;124mP/E Ratio\u001b[39m\u001b[38;5;124m'\u001b[39m: \u001b[38;5;241m0.1\u001b[39m,\n\u001b[1;32m     28\u001b[0m     \u001b[38;5;124m'\u001b[39m\u001b[38;5;124mEPS\u001b[39m\u001b[38;5;124m'\u001b[39m: \u001b[38;5;241m0.1\u001b[39m,\n\u001b[0;32m   (...)\u001b[0m\n\u001b[1;32m     41\u001b[0m     \u001b[38;5;124m'\u001b[39m\u001b[38;5;124mBeta\u001b[39m\u001b[38;5;124m'\u001b[39m: \u001b[38;5;241m0.05\u001b[39m\n\u001b[1;32m     42\u001b[0m }\n\u001b[0;32m---> 44\u001b[0m compare_stocks(stock_symbols, ratio_weights)\n",
      "Cell \u001b[0;32mIn[10], line 7\u001b[0m, in \u001b[0;36mcompare_stocks\u001b[0;34m(stock_symbols, weights)\u001b[0m\n\u001b[1;32m      5\u001b[0m stock_data \u001b[38;5;241m=\u001b[39m fetch_stock_data(symbol)\n\u001b[1;32m      6\u001b[0m \u001b[38;5;28;01mif\u001b[39;00m stock_data \u001b[38;5;129;01mis\u001b[39;00m \u001b[38;5;129;01mnot\u001b[39;00m \u001b[38;5;28;01mNone\u001b[39;00m:\n\u001b[0;32m----> 7\u001b[0m     ratios \u001b[38;5;241m=\u001b[39m calculate_ratios(stock_data)\n\u001b[1;32m      8\u001b[0m     score \u001b[38;5;241m=\u001b[39m weighted_score(ratios, weights)\n\u001b[1;32m      9\u001b[0m     results[symbol] \u001b[38;5;241m=\u001b[39m {\u001b[38;5;124m'\u001b[39m\u001b[38;5;124mratios\u001b[39m\u001b[38;5;124m'\u001b[39m: ratios, \u001b[38;5;124m'\u001b[39m\u001b[38;5;124mscore\u001b[39m\u001b[38;5;124m'\u001b[39m: score}\n",
      "Cell \u001b[0;32mIn[8], line 2\u001b[0m, in \u001b[0;36mcalculate_ratios\u001b[0;34m(stock_data)\u001b[0m\n\u001b[1;32m      1\u001b[0m \u001b[38;5;28;01mdef\u001b[39;00m \u001b[38;5;21mcalculate_ratios\u001b[39m(stock_data):\n\u001b[0;32m----> 2\u001b[0m     pe_ratio \u001b[38;5;241m=\u001b[39m stock_data[\u001b[38;5;124m'\u001b[39m\u001b[38;5;124mClose\u001b[39m\u001b[38;5;124m'\u001b[39m][\u001b[38;5;241m-\u001b[39m\u001b[38;5;241m1\u001b[39m] \u001b[38;5;241m/\u001b[39m stock_data[\u001b[38;5;124m'\u001b[39m\u001b[38;5;124mEarnings per Share (EPS)\u001b[39m\u001b[38;5;124m'\u001b[39m]\n\u001b[1;32m      3\u001b[0m     eps \u001b[38;5;241m=\u001b[39m stock_data[\u001b[38;5;124m'\u001b[39m\u001b[38;5;124mEarnings per Share (EPS)\u001b[39m\u001b[38;5;124m'\u001b[39m][\u001b[38;5;241m-\u001b[39m\u001b[38;5;241m1\u001b[39m]\n\u001b[1;32m      4\u001b[0m     peg_ratio \u001b[38;5;241m=\u001b[39m pe_ratio \u001b[38;5;241m/\u001b[39m eps\n",
      "File \u001b[0;32m~/anaconda3/envs/success/lib/python3.11/site-packages/pandas/core/frame.py:3761\u001b[0m, in \u001b[0;36mDataFrame.__getitem__\u001b[0;34m(self, key)\u001b[0m\n\u001b[1;32m   3759\u001b[0m \u001b[38;5;28;01mif\u001b[39;00m \u001b[38;5;28mself\u001b[39m\u001b[38;5;241m.\u001b[39mcolumns\u001b[38;5;241m.\u001b[39mnlevels \u001b[38;5;241m>\u001b[39m \u001b[38;5;241m1\u001b[39m:\n\u001b[1;32m   3760\u001b[0m     \u001b[38;5;28;01mreturn\u001b[39;00m \u001b[38;5;28mself\u001b[39m\u001b[38;5;241m.\u001b[39m_getitem_multilevel(key)\n\u001b[0;32m-> 3761\u001b[0m indexer \u001b[38;5;241m=\u001b[39m \u001b[38;5;28mself\u001b[39m\u001b[38;5;241m.\u001b[39mcolumns\u001b[38;5;241m.\u001b[39mget_loc(key)\n\u001b[1;32m   3762\u001b[0m \u001b[38;5;28;01mif\u001b[39;00m is_integer(indexer):\n\u001b[1;32m   3763\u001b[0m     indexer \u001b[38;5;241m=\u001b[39m [indexer]\n",
      "File \u001b[0;32m~/anaconda3/envs/success/lib/python3.11/site-packages/pandas/core/indexes/base.py:3655\u001b[0m, in \u001b[0;36mIndex.get_loc\u001b[0;34m(self, key)\u001b[0m\n\u001b[1;32m   3653\u001b[0m     \u001b[38;5;28;01mreturn\u001b[39;00m \u001b[38;5;28mself\u001b[39m\u001b[38;5;241m.\u001b[39m_engine\u001b[38;5;241m.\u001b[39mget_loc(casted_key)\n\u001b[1;32m   3654\u001b[0m \u001b[38;5;28;01mexcept\u001b[39;00m \u001b[38;5;167;01mKeyError\u001b[39;00m \u001b[38;5;28;01mas\u001b[39;00m err:\n\u001b[0;32m-> 3655\u001b[0m     \u001b[38;5;28;01mraise\u001b[39;00m \u001b[38;5;167;01mKeyError\u001b[39;00m(key) \u001b[38;5;28;01mfrom\u001b[39;00m \u001b[38;5;21;01merr\u001b[39;00m\n\u001b[1;32m   3656\u001b[0m \u001b[38;5;28;01mexcept\u001b[39;00m \u001b[38;5;167;01mTypeError\u001b[39;00m:\n\u001b[1;32m   3657\u001b[0m     \u001b[38;5;66;03m# If we have a listlike key, _check_indexing_error will raise\u001b[39;00m\n\u001b[1;32m   3658\u001b[0m     \u001b[38;5;66;03m#  InvalidIndexError. Otherwise we fall through and re-raise\u001b[39;00m\n\u001b[1;32m   3659\u001b[0m     \u001b[38;5;66;03m#  the TypeError.\u001b[39;00m\n\u001b[1;32m   3660\u001b[0m     \u001b[38;5;28mself\u001b[39m\u001b[38;5;241m.\u001b[39m_check_indexing_error(key)\n",
      "\u001b[0;31mKeyError\u001b[0m: 'Earnings per Share (EPS)'"
     ]
    }
   ],
   "source": [
    "def compare_stocks(stock_symbols, weights):\n",
    "    results = {}\n",
    "\n",
    "    for symbol in stock_symbols:\n",
    "        stock_data = fetch_stock_data(symbol)\n",
    "        if stock_data is not None:\n",
    "            ratios = calculate_ratios(stock_data)\n",
    "            score = weighted_score(ratios, weights)\n",
    "            results[symbol] = {'ratios': ratios, 'score': score}\n",
    "\n",
    "    # Determine the best stock based on the highest score\n",
    "    best_stock = max(results, key=lambda k: results[k]['score'])\n",
    "    print(f\"\\nComparative Analysis Results:\")\n",
    "    for symbol, data in results.items():\n",
    "        print(f\"\\n{symbol} Scores:\")\n",
    "        for key, value in data['ratios'].items():\n",
    "            print(f\"{key}: {value:.4f}\")\n",
    "        print(f\"Total Score: {data['score']:.4f}\")\n",
    "    print(f\"\\nThe best stock based on the weighted scores is: {best_stock}.\")\n",
    "\n",
    "if __name__ == \"__main__\":\n",
    "    # Replace these with the stock symbols you want to compare\n",
    "    stock_symbols = ['AAPL', 'GOOGL', 'MSFT']\n",
    "\n",
    "    # Define weights for each ratio (you can adjust these based on your preferences)\n",
    "    ratio_weights = {\n",
    "        'P/E Ratio': 0.1,\n",
    "        'EPS': 0.1,\n",
    "        'PEG Ratio': 0.1,\n",
    "        'P/S Ratio': 0.1,\n",
    "        'P/B Ratio': 0.1,\n",
    "        'Dividend Yield': 0.05,\n",
    "        'Dividend Payout Ratio': 0.05,\n",
    "        'Return on Assets (ROA)': 0.05,\n",
    "        'Return on Equity (ROE)': 0.05,\n",
    "        'Profit Margin': 0.05,\n",
    "        'Current Ratio': 0.05,\n",
    "        'Debt to Equity Ratio': 0.05,\n",
    "        'Quick Ratio': 0.05,\n",
    "        'Debt & Liquidity Ratio': 0.05,\n",
    "        'Beta': 0.05\n",
    "    }\n",
    "\n",
    "    compare_stocks(stock_symbols, ratio_weights)\n"
   ]
  },
  {
   "cell_type": "code",
   "execution_count": null,
   "id": "c39213b4-63da-42ef-a820-dbea6f7cc6b0",
   "metadata": {},
   "outputs": [],
   "source": []
  },
  {
   "cell_type": "code",
   "execution_count": null,
   "id": "787d4932-8816-4f0d-8046-7dbb132a3c1d",
   "metadata": {},
   "outputs": [],
   "source": []
  }
 ],
 "metadata": {
  "kernelspec": {
   "display_name": "Python 3 (ipykernel)",
   "language": "python",
   "name": "python3"
  },
  "language_info": {
   "codemirror_mode": {
    "name": "ipython",
    "version": 3
   },
   "file_extension": ".py",
   "mimetype": "text/x-python",
   "name": "python",
   "nbconvert_exporter": "python",
   "pygments_lexer": "ipython3",
   "version": "3.11.5"
  }
 },
 "nbformat": 4,
 "nbformat_minor": 5
}
