{
 "cells": [
  {
   "cell_type": "code",
   "execution_count": null,
   "id": "66e5f2d2-46c2-4cea-8ed9-f2b625e4804e",
   "metadata": {},
   "outputs": [],
   "source": [
    "from selenium import webdriver\n",
    "driver = webdriver.PhantomJS()\n",
    "driver.get(my_url)\n",
    "p_element = driver.find_element_by_id(id_='intro-text')\n",
    "print(p_element.text)\n",
    "# result:\n",
    "'Yay! Supports javascript'"
   ]
  }
 ],
 "metadata": {
  "kernelspec": {
   "display_name": "Python 3 (ipykernel)",
   "language": "python",
   "name": "python3"
  },
  "language_info": {
   "codemirror_mode": {
    "name": "ipython",
    "version": 3
   },
   "file_extension": ".py",
   "mimetype": "text/x-python",
   "name": "python",
   "nbconvert_exporter": "python",
   "pygments_lexer": "ipython3",
   "version": "3.11.5"
  }
 },
 "nbformat": 4,
 "nbformat_minor": 5
}
